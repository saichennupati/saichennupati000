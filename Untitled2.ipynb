{
  "nbformat": 4,
  "nbformat_minor": 0,
  "metadata": {
    "colab": {
      "provenance": [],
      "authorship_tag": "ABX9TyNxpe+KMPhuhPVWlS4aaUsC",
      "include_colab_link": true
    },
    "kernelspec": {
      "name": "python3",
      "display_name": "Python 3"
    },
    "language_info": {
      "name": "python"
    }
  },
  "cells": [
    {
      "cell_type": "markdown",
      "metadata": {
        "id": "view-in-github",
        "colab_type": "text"
      },
      "source": [
        "<a href=\"https://colab.research.google.com/github/saichennupati/saichennupati000/blob/main/Untitled2.ipynb\" target=\"_parent\"><img src=\"https://colab.research.google.com/assets/colab-badge.svg\" alt=\"Open In Colab\"/></a>"
      ]
    },
    {
      "cell_type": "code",
      "execution_count": 10,
      "metadata": {
        "id": "QPPtrAOKKa_L"
      },
      "outputs": [],
      "source": [
        "file_name = 'gasprices.txt'\n",
        "file_object = open(file_name)\n",
        "line_number = 1\n",
        "total = 0\n",
        "count = 0\n",
        "\n",
        "split = file_object.split(\"-\")\n",
        "split1 = file_object.split(\":\")\n",
        "\n",
        "month = split[0] \n",
        "day = split[1] \n",
        "year = split[2] \n",
        "price = split1[1] \n",
        "\n",
        "for x in file_object:\n",
        "    total = count\n",
        "    count = count\n",
        "    line_number = line_number + 1\n",
        "    print(line_number)\n",
        "    print(\"Month:\", month)\n",
        "    print(\"Day:\", day)\n",
        "    print(\"Year:\", year)\n",
        "    print(\"Price:\", price)\n",
        "\n",
        "\n",
        "file_object.close()\n",
        "\n",
        "#start_index = 0\n",
        "#end_index = 0\n",
        "#for month_number in range(0,12):\n",
        " ## sta = end_index \n",
        " # end_index = end_index + days[month_number]\n",
        " # month_list = steps_list[start_index:end_index]\n",
        "  #total = sum(month_list) \n",
        "  #average = total / len(month_list)\n",
        " # print (months[month_number] + '\\t\\t' + str(total) + '\\t\\t' + format(average, ',.2f') + ' steps.')"
      ]
    },
    {
      "cell_type": "markdown",
      "source": [
        "# New Section"
      ],
      "metadata": {
        "id": "Yg_c5soC1Zgt"
      }
    },
    {
      "cell_type": "code",
      "source": [
        "from google.colab import drive\n",
        "drive.mount('/content/drive')"
      ],
      "metadata": {
        "id": "JxTkOkJPZPuJ"
      },
      "execution_count": null,
      "outputs": []
    }
  ]
}