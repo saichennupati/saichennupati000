{
  "nbformat": 4,
  "nbformat_minor": 0,
  "metadata": {
    "colab": {
      "provenance": [],
      "toc_visible": true,
      "include_colab_link": true
    },
    "kernelspec": {
      "name": "python3",
      "display_name": "Python 3"
    },
    "language_info": {
      "name": "python"
    }
  },
  "cells": [
    {
      "cell_type": "markdown",
      "metadata": {
        "id": "view-in-github",
        "colab_type": "text"
      },
      "source": [
        "<a href=\"https://colab.research.google.com/github/saichennupati/saichennupati000/blob/main/A10_exploring_lists.ipynb\" target=\"_parent\"><img src=\"https://colab.research.google.com/assets/colab-badge.svg\" alt=\"Open In Colab\"/></a>"
      ]
    },
    {
      "cell_type": "markdown",
      "source": [
        "# Lists\n"
      ],
      "metadata": {
        "id": "HpIJY9lvgjMV"
      }
    },
    {
      "cell_type": "markdown",
      "source": [
        "* https://www.w3schools.com/python/python_ref_list.asp  (Python List Methods)\n",
        "* https://www.w3schools.com/python/python_ref_functions.asp (Python Built-in Functions)"
      ],
      "metadata": {
        "id": "imH1nSNBUuG_"
      }
    },
    {
      "cell_type": "code",
      "source": [
        "#@title Lists: An Introduction\n",
        "\n",
        "Data Type\n",
        "List Type"
      ],
      "metadata": {
        "id": "iE_KtgxUn4at"
      },
      "execution_count": null,
      "outputs": []
    },
    {
      "cell_type": "code",
      "source": [
        "#@title 1.Creating an empty list\n",
        "\n",
        "x=[]\n",
        "print(x)\n"
      ],
      "metadata": {
        "id": "4GnRakGpUz8V",
        "outputId": "137a4ba8-3f5d-4104-d4b2-f97ca0b6b59a",
        "colab": {
          "base_uri": "https://localhost:8080/"
        }
      },
      "execution_count": 11,
      "outputs": [
        {
          "output_type": "stream",
          "name": "stdout",
          "text": [
            "[]\n"
          ]
        }
      ]
    },
    {
      "cell_type": "code",
      "source": [
        "#@title 2.Creating a list with some elements\n",
        "list_1 = [\"hello world\", 72, 83.6, \"python\"]\n",
        "print(list_1)"
      ],
      "metadata": {
        "id": "uCm9yPLDU0O0",
        "outputId": "6e912899-f1df-4076-8a7c-7fb7825d5a41",
        "colab": {
          "base_uri": "https://localhost:8080/"
        }
      },
      "execution_count": 9,
      "outputs": [
        {
          "output_type": "stream",
          "name": "stdout",
          "text": [
            "['hello world', 72, 83.6, 'python']\n"
          ]
        }
      ]
    },
    {
      "cell_type": "code",
      "source": [
        "#@title 3.Adding elements at the end\n",
        "list_1 = [\"hello world\", 72, 83.6, \"python\"]\n",
        "list_1.append(\"hi\")\n",
        "print(list_1)"
      ],
      "metadata": {
        "id": "rEpmqm7MU0Si",
        "outputId": "e5822ce3-4b8c-49cb-9a37-0aca35ed3f71",
        "colab": {
          "base_uri": "https://localhost:8080/"
        }
      },
      "execution_count": 4,
      "outputs": [
        {
          "output_type": "stream",
          "name": "stdout",
          "text": [
            "['hello world', 72, 83.6, 'python', 'hi']\n"
          ]
        }
      ]
    },
    {
      "cell_type": "markdown",
      "source": [],
      "metadata": {
        "id": "D580zZWleiYE"
      }
    },
    {
      "cell_type": "code",
      "source": [
        "#@title 4.Accessing an element (positive index)\n",
        "# also known as \"Reading an element\"\n",
        "# also known as \"Setting an element\"\n",
        "\n",
        "list_1 = [\"Apple\", \"banana\",\"cantaloupe\", \"dates\"]\n",
        "print(list_1[1])"
      ],
      "metadata": {
        "id": "AMTpZsLMU0Vr",
        "outputId": "379f3e43-6fa0-4257-848c-56d93d1ce25b",
        "colab": {
          "base_uri": "https://localhost:8080/"
        }
      },
      "execution_count": 11,
      "outputs": [
        {
          "output_type": "stream",
          "name": "stdout",
          "text": [
            "banana\n"
          ]
        }
      ]
    },
    {
      "cell_type": "code",
      "source": [
        "#@title 5.Accessing an element (through Negative Indexing)\n",
        "# also known as \"Reading an element\"\n",
        "# also known as \"Setting an element\"\n",
        "list_1 = [\"Apple\", \"banana\",\"cantaloupe\", \"dates\"]\n",
        "print(list_1[-2])"
      ],
      "metadata": {
        "id": "VWaPKymnXdtx",
        "outputId": "d14ae756-956d-4807-8947-2e45865a7094",
        "colab": {
          "base_uri": "https://localhost:8080/"
        }
      },
      "execution_count": 12,
      "outputs": [
        {
          "output_type": "stream",
          "name": "stdout",
          "text": [
            "cantaloupe\n"
          ]
        }
      ]
    },
    {
      "cell_type": "code",
      "source": [
        "#@title 6.Adding an element at the front of the list\n",
        "\n",
        "list = [\"wassup\",\"hello guys\", 28]\n",
        "list.insert(0,\"tennis\")\n",
        "print(list)"
      ],
      "metadata": {
        "id": "dSKr5_20U0YS",
        "outputId": "08ba30bd-92a2-4701-82b4-2a77fbd13cbb",
        "colab": {
          "base_uri": "https://localhost:8080/"
        }
      },
      "execution_count": 9,
      "outputs": [
        {
          "output_type": "stream",
          "name": "stdout",
          "text": [
            "['tennis', 'wassup', 'hello guys', 28]\n"
          ]
        }
      ]
    },
    {
      "cell_type": "code",
      "source": [
        "#@title 7.Adding an element anywhere (at a specific index) \n",
        "\n",
        "list = [\"wassup\",\"hello guys\", 28, 32.7]\n",
        "list.insert(2,\"tennis\")\n",
        "print(list)"
      ],
      "metadata": {
        "id": "jvMJf2-2U0bM",
        "outputId": "656f995f-1e92-488d-ad20-53a09be07f65",
        "colab": {
          "base_uri": "https://localhost:8080/"
        }
      },
      "execution_count": 8,
      "outputs": [
        {
          "output_type": "stream",
          "name": "stdout",
          "text": [
            "['wassup', 'tennis', 'hello guys', 28]\n"
          ]
        }
      ]
    },
    {
      "cell_type": "code",
      "source": [
        "#@title 8.Updating (or Replacing) an element\n",
        "list_1= [\"monkey\",\"tree\", \"function\", 365]\n",
        "\n",
        "list_1[2] = \"command\"\n",
        "print(list_1)"
      ],
      "metadata": {
        "id": "DUG9xlraaTlO",
        "outputId": "4f159891-2afa-478c-ea71-16b78eaef30c",
        "colab": {
          "base_uri": "https://localhost:8080/"
        }
      },
      "execution_count": 14,
      "outputs": [
        {
          "output_type": "stream",
          "name": "stdout",
          "text": [
            "['monkey', 'tree', 'command', 365]\n"
          ]
        }
      ]
    },
    {
      "cell_type": "code",
      "source": [
        "#@title 9.Looping through the list (just for READING)\n",
        "list_1 = [\"hello\", \"wassup_dawg\", \"23\", \"312\", \"coding\"]\n",
        "for x in list_1:\n",
        "  print(list_1)"
      ],
      "metadata": {
        "id": "F6P3NNhFU0j8",
        "outputId": "3dddb38e-ee06-4c0c-eb69-fe1543d01c13",
        "colab": {
          "base_uri": "https://localhost:8080/"
        }
      },
      "execution_count": 2,
      "outputs": [
        {
          "output_type": "stream",
          "name": "stdout",
          "text": [
            "['hello', 'wassup_dawg', '23', '312', 'coding']\n",
            "['hello', 'wassup_dawg', '23', '312', 'coding']\n",
            "['hello', 'wassup_dawg', '23', '312', 'coding']\n",
            "['hello', 'wassup_dawg', '23', '312', 'coding']\n",
            "['hello', 'wassup_dawg', '23', '312', 'coding']\n"
          ]
        }
      ]
    },
    {
      "cell_type": "markdown",
      "source": [],
      "metadata": {
        "id": "Q2LpgHZDoGDc"
      }
    },
    {
      "cell_type": "code",
      "source": [
        "#@title 10.Looping through the list (for UPDATING)\n",
        "\n",
        "list_1 = [\"hello\", \"wassup\", \"23\", \"312\"]\n",
        "\n",
        "for x in range(len(list_1)):\n",
        "  list_1[x] =list_1[x]  +\"x\"\n",
        "print(list_1)"
      ],
      "metadata": {
        "id": "QFJmGzYOU0nG",
        "outputId": "0c0d154b-e367-4507-dc12-e9d61327018f",
        "colab": {
          "base_uri": "https://localhost:8080/"
        }
      },
      "execution_count": 6,
      "outputs": [
        {
          "output_type": "stream",
          "name": "stdout",
          "text": [
            "['hellox', 'wassupx', '23x', '312x']\n"
          ]
        }
      ]
    },
    {
      "cell_type": "markdown",
      "source": [],
      "metadata": {
        "id": "-BliBUIHyXLR"
      }
    },
    {
      "cell_type": "code",
      "source": [
        "#@title 11.Common Operations: Find the length of the list\n",
        "# Find the number of elements in the list\n",
        "\n",
        "list = [\"hello\", \"wassup\", \"hi\"]\n",
        "print (len(list))"
      ],
      "metadata": {
        "id": "_OiuJHIeU0p6",
        "outputId": "0f08ab8f-fe56-4290-9569-44e39541a256",
        "colab": {
          "base_uri": "https://localhost:8080/"
        }
      },
      "execution_count": 14,
      "outputs": [
        {
          "output_type": "stream",
          "name": "stdout",
          "text": [
            "3\n"
          ]
        }
      ]
    },
    {
      "cell_type": "code",
      "source": [
        "#@title 12.Common Operations: Find the maximum in the list"
      ],
      "metadata": {
        "id": "IhGhO_XxU0tB"
      },
      "execution_count": null,
      "outputs": []
    },
    {
      "cell_type": "code",
      "source": [
        "#@title 13.Common Operations: Find the minimum in the list"
      ],
      "metadata": {
        "id": "D4vmqhUHYaVC"
      },
      "execution_count": null,
      "outputs": []
    },
    {
      "cell_type": "code",
      "source": [
        "#@title 14.Common Operations: Find the sum of elements in the list"
      ],
      "metadata": {
        "id": "ULNy2XkGYd5g"
      },
      "execution_count": null,
      "outputs": []
    },
    {
      "cell_type": "code",
      "source": [
        "#@title 14.Removing an element by value\n"
      ],
      "metadata": {
        "id": "8UfCeQSpYwFB"
      },
      "execution_count": null,
      "outputs": []
    },
    {
      "cell_type": "code",
      "source": [
        "#@title 15.Removing the last element in the list\n"
      ],
      "metadata": {
        "id": "8pLgwYe0YwOY"
      },
      "execution_count": null,
      "outputs": []
    },
    {
      "cell_type": "code",
      "source": [
        "#@title 16.Removing an element at a given index\n"
      ],
      "metadata": {
        "id": "2jpc-7ppYwb_"
      },
      "execution_count": null,
      "outputs": []
    },
    {
      "cell_type": "code",
      "source": [
        "#@title 17.Extending a list\n",
        "#(Adding several elements to one list)\n"
      ],
      "metadata": {
        "id": "f9CutvMNYwn6"
      },
      "execution_count": null,
      "outputs": []
    },
    {
      "cell_type": "code",
      "source": [
        "#@title 18.Search for an element. What is the index?\n"
      ],
      "metadata": {
        "id": "S7JBtxoufmw0"
      },
      "execution_count": null,
      "outputs": []
    },
    {
      "cell_type": "code",
      "source": [
        "#@title 19.Count the number of times an element is appearing\n",
        "\n"
      ],
      "metadata": {
        "id": "xtYWNnRUfykZ"
      },
      "execution_count": null,
      "outputs": []
    },
    {
      "cell_type": "code",
      "execution_count": null,
      "metadata": {
        "colab": {
          "base_uri": "https://localhost:8080/"
        },
        "id": "HzdJE7DjkZ7-",
        "outputId": "a130b59c-5076-4038-bd11-b8989a6246f8"
      },
      "outputs": [
        {
          "output_type": "stream",
          "name": "stdout",
          "text": [
            "54.3 ns ± 5.4 ns per loop (mean ± std. dev. of 7 runs, 10000000 loops each)\n"
          ]
        }
      ],
      "source": [
        "#@title 20.Checking for Membership (in)"
      ]
    },
    {
      "cell_type": "code",
      "source": [
        "#@title 21.Checking for Membership (not in)"
      ],
      "metadata": {
        "id": "0jlu0amZfUYv"
      },
      "execution_count": null,
      "outputs": []
    },
    {
      "cell_type": "code",
      "source": [
        "#@title 22.Reverse a list\n"
      ],
      "metadata": {
        "id": "4ss-JZlugMdZ"
      },
      "execution_count": null,
      "outputs": []
    },
    {
      "cell_type": "code",
      "source": [
        "#@title 23.Sort a list\n"
      ],
      "metadata": {
        "id": "XNEHDoaFgop0"
      },
      "execution_count": null,
      "outputs": []
    },
    {
      "cell_type": "code",
      "source": [
        "#@title 24.Copy a list (Caution: Don't reassign)\n"
      ],
      "metadata": {
        "id": "OKubdzAkhAzu"
      },
      "execution_count": null,
      "outputs": []
    },
    {
      "cell_type": "code",
      "source": [
        "#@title 25.Clear (Empty) a list\n",
        "#Delete all the elements in the list\n"
      ],
      "metadata": {
        "id": "EtzP3vuKgt8T"
      },
      "execution_count": null,
      "outputs": []
    },
    {
      "cell_type": "code",
      "source": [
        "#@title 26.Delete the entire list"
      ],
      "metadata": {
        "id": "Kio7904Bh1uk"
      },
      "execution_count": null,
      "outputs": []
    },
    {
      "cell_type": "code",
      "source": [
        "#@title 27.Cool Operation: You can add lists"
      ],
      "metadata": {
        "id": "xrsUOIOmiGT7"
      },
      "execution_count": null,
      "outputs": []
    },
    {
      "cell_type": "code",
      "source": [
        "#@title 28.Cool Operation: You can multiply/repeat a list"
      ],
      "metadata": {
        "id": "daHyLToliKFa"
      },
      "execution_count": null,
      "outputs": []
    },
    {
      "cell_type": "code",
      "source": [
        "#@title 29.Cool Operation: You can convert a range to a list"
      ],
      "metadata": {
        "id": "72Cxp55ziPoa"
      },
      "execution_count": null,
      "outputs": []
    },
    {
      "cell_type": "code",
      "source": [
        "#@title 30.Common Operations: Find the length (Using Built-in Function)"
      ],
      "metadata": {
        "id": "ubwosLZvYiPv"
      },
      "execution_count": null,
      "outputs": []
    },
    {
      "cell_type": "code",
      "source": [
        "#@title 31.Common Operations: Find the maximum in the list (Using Built-in Function)"
      ],
      "metadata": {
        "id": "bsYWoh8viya7"
      },
      "execution_count": null,
      "outputs": []
    },
    {
      "cell_type": "code",
      "source": [
        "#@title 32.Common Operations: Find the minimum in the list (Using Built-in Function)"
      ],
      "metadata": {
        "id": "_dXOQIhsi88b"
      },
      "execution_count": null,
      "outputs": []
    },
    {
      "cell_type": "code",
      "source": [
        "#@title 33.Common Operations: Find the sum of elements in the list (Using Built-in Function)"
      ],
      "metadata": {
        "id": "EDcj1HkdjIXD"
      },
      "execution_count": null,
      "outputs": []
    },
    {
      "cell_type": "code",
      "source": [
        "#@title 34.Common Operations: Find the average of elements in the list (Using Built-in Function)"
      ],
      "metadata": {
        "id": "rQwWmGsnjMG0"
      },
      "execution_count": null,
      "outputs": []
    },
    {
      "cell_type": "code",
      "source": [
        "#@title 35.Common Operations: Find whether the list has any duplicate elements"
      ],
      "metadata": {
        "id": "YuaeC0FVjU81"
      },
      "execution_count": null,
      "outputs": []
    },
    {
      "cell_type": "code",
      "source": [
        "#@title 36.Common Operations: Multiply / Divide / Do something to every element in the list"
      ],
      "metadata": {
        "id": "6ENoMN_Pjr1t"
      },
      "execution_count": null,
      "outputs": []
    },
    {
      "cell_type": "code",
      "source": [
        "#@title 37.List Unpacking (N to <N mapping)"
      ],
      "metadata": {
        "id": "4UgT1N2MkFY6"
      },
      "execution_count": null,
      "outputs": []
    },
    {
      "cell_type": "code",
      "source": [
        "#@title 38.List Unpacking (N to <N mapping)"
      ],
      "metadata": {
        "id": "oHnK7xtkkKoM"
      },
      "execution_count": null,
      "outputs": []
    },
    {
      "cell_type": "code",
      "source": [
        "#@title 39.Printing a List (*)"
      ],
      "metadata": {
        "id": "5MXjd3xIkieL"
      },
      "execution_count": null,
      "outputs": []
    },
    {
      "cell_type": "code",
      "source": [
        "#@title 40.List Slicing"
      ],
      "metadata": {
        "id": "05fSVpKRkoc8"
      },
      "execution_count": null,
      "outputs": []
    },
    {
      "cell_type": "code",
      "source": [
        "#@title 41.List Comprehension"
      ],
      "metadata": {
        "id": "C9igc0NqkuTz"
      },
      "execution_count": null,
      "outputs": []
    },
    {
      "cell_type": "code",
      "source": [
        "#@title 42.Two Dimenstional Lists  (List of Lists)"
      ],
      "metadata": {
        "id": "Z4lXBQV0knD_"
      },
      "execution_count": null,
      "outputs": []
    },
    {
      "cell_type": "code",
      "source": [
        "#@title 43.Zipping two or three lists"
      ],
      "metadata": {
        "id": "OtnBbCUasGXV"
      },
      "execution_count": null,
      "outputs": []
    },
    {
      "cell_type": "code",
      "source": [
        "#@title 44.Applying a map funciton on the lists"
      ],
      "metadata": {
        "id": "dPqwLI6RsLxM"
      },
      "execution_count": null,
      "outputs": []
    }
  ]
}