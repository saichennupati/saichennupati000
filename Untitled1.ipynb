{
  "nbformat": 4,
  "nbformat_minor": 0,
  "metadata": {
    "colab": {
      "provenance": [],
      "authorship_tag": "ABX9TyMXvN4Cyl+yahLeedYS25CU",
      "include_colab_link": true
    },
    "kernelspec": {
      "name": "python3",
      "display_name": "Python 3"
    },
    "language_info": {
      "name": "python"
    }
  },
  "cells": [
    {
      "cell_type": "markdown",
      "metadata": {
        "id": "view-in-github",
        "colab_type": "text"
      },
      "source": [
        "<a href=\"https://colab.research.google.com/github/saichennupati/saichennupati000/blob/main/Untitled1.ipynb\" target=\"_parent\"><img src=\"https://colab.research.google.com/assets/colab-badge.svg\" alt=\"Open In Colab\"/></a>"
      ]
    },
    {
      "cell_type": "code",
      "execution_count": 1,
      "metadata": {
        "colab": {
          "base_uri": "https://localhost:8080/"
        },
        "id": "0IH_sa1Ibed1",
        "outputId": "289418e0-374d-498e-c379-dcf22f32aed3"
      },
      "outputs": [
        {
          "output_type": "stream",
          "name": "stdout",
          "text": [
            "Type in a telephone number: 987-GET-HELP\n",
            "987-GET-HELP\n",
            " 987-438-4357\n"
          ]
        }
      ],
      "source": [
        "question = input(\"Type in a telephone number: \")\n",
        "print(question)\n",
        "\n",
        "#split = question.split(\"-\")\n",
        "\n",
        "new_question = \" \"\n",
        "\n",
        "for x in question:\n",
        "    \n",
        "    if x == \"A\" or x == \"B\" or x == \"C\":\n",
        "        x = '2'\n",
        "    elif x == \"D\" or x == \"E\" or x == \"F\":\n",
        "        x = '3'\n",
        "    elif x == \"G\" or x == \"H\" or x == \"I\":\n",
        "        x = '4'\n",
        "    elif x == \"J\" or x == \"K\" or x == \"L\":\n",
        "        x = '5'\n",
        "    elif x == \"M\" or x == \"N\" or x == \"O\":\n",
        "        x = '6'\n",
        "    elif x == \"P\" or x == \"Q\" or x == \"R\" or x == \"S\":\n",
        "        x = '7'\n",
        "    elif x == \"T\" or x == \"U\" or x == \"V\":\n",
        "        x = '8'\n",
        "    elif x == \"W\" or x == \"X\" or x == \"Y\" or x == \"Z\":\n",
        "        x = \"9\"\n",
        "   \n",
        "    new_question = new_question + x\n",
        "\n",
        "print(new_question)"
      ]
    }
  ]
}