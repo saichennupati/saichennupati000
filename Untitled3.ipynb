{
  "nbformat": 4,
  "nbformat_minor": 0,
  "metadata": {
    "colab": {
      "provenance": [],
      "authorship_tag": "ABX9TyPJybOPyJE6r4soCBtryz8C",
      "include_colab_link": true
    },
    "kernelspec": {
      "name": "python3",
      "display_name": "Python 3"
    },
    "language_info": {
      "name": "python"
    }
  },
  "cells": [
    {
      "cell_type": "markdown",
      "metadata": {
        "id": "view-in-github",
        "colab_type": "text"
      },
      "source": [
        "<a href=\"https://colab.research.google.com/github/saichennupati/saichennupati000/blob/main/Untitled3.ipynb\" target=\"_parent\"><img src=\"https://colab.research.google.com/assets/colab-badge.svg\" alt=\"Open In Colab\"/></a>"
      ]
    },
    {
      "cell_type": "code",
      "execution_count": 8,
      "metadata": {
        "colab": {
          "base_uri": "https://localhost:8080/"
        },
        "id": "v52_HNkItmwK",
        "outputId": "8bad72fb-9bc0-4fd4-b432-c4f15ca2ba1d"
      },
      "outputs": [
        {
          "output_type": "stream",
          "name": "stdout",
          "text": [
            "Enter the name of a team: Boston Red Sox\n",
            "6\n"
          ]
        }
      ],
      "source": [
        "def main():\n",
        "    infile = open('WorldSeriesWinners.txt', 'r') \n",
        "\n",
        "    for line in open('WorldSeriesWinners.txt'):\n",
        "        line = line.rstrip('\\n')\n",
        "\n",
        "    winners = infile.read().splitlines() \n",
        "\n",
        "    infile.close() \n",
        "    team = input('Enter the name of a team: ') \n",
        "    counter = 0 \n",
        "\n",
        "    for winner in winners: \n",
        "        if team.lower() == winner.lower():\n",
        "            counter = counter + 1\n",
        "\n",
        "    if counter == 1: \n",
        "        print(counter)\n",
        "    elif counter > 1:\n",
        "        print(counter)\n",
        "    else:\n",
        "        print(\"0\")\n",
        "\n",
        "\n",
        "main()\n",
        "\n",
        "\n"
      ]
    }
  ]
}